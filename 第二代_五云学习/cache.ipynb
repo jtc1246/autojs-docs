{
 "cells": [
  {
   "cell_type": "code",
   "execution_count": null,
   "metadata": {},
   "outputs": [],
   "source": [
    "from http.server import BaseHTTPRequestHandler, ThreadingHTTPServer\n",
    "from _thread import start_new_thread\n",
    "from myHttp import http  # pip install myHttp\n",
    "from myBasics import base64ToBin, binToBase64  # pip install myBasics\n",
    "import logging\n",
    "from typing import Any\n",
    "import json\n",
    "from time import sleep\n",
    "from threading import Lock\n",
    "BASE_URL = 'https://www.wuyunai.com'\n",
    "DOMAIN = 'www.wuyunai.com'\n",
    "# IP_PORT='192.168.1.142:9005'\n",
    "IP_PORT = '127.0.0.1:9005'"
   ]
  },
  {
   "cell_type": "code",
   "execution_count": null,
   "metadata": {},
   "outputs": [],
   "source": [
    "try:\n",
    "    f = open('cache.json')\n",
    "    cache = f.read()\n",
    "    f.close()\n",
    "    cache = json.loads(cache)\n",
    "except:\n",
    "    cache = {}\n",
    "f = open('./autojspro.log', 'w')\n",
    "lock = Lock()\n",
    "\n",
    "\n",
    "def safe_write(a):\n",
    "    with lock:\n",
    "        f.write(a + '\\n')\n",
    "        f.flush()\n",
    "\n",
    "\n",
    "def to_dict(header):\n",
    "    # for self.headers\n",
    "    d = {}\n",
    "    for k in header:\n",
    "        d[k] = header[k]\n",
    "    return d\n",
    "\n",
    "\n",
    "class Resquest(BaseHTTPRequestHandler):\n",
    "    def do_GET(self):\n",
    "        safe_write(f\"{self.path} request received\")\n",
    "        url = self.path\n",
    "        h = to_dict(self.headers)\n",
    "        h['Host'] = DOMAIN\n",
    "        if (url in cache):\n",
    "            status = cache[url][0]\n",
    "            content = cache[url][1]\n",
    "            header = cache[url][2]\n",
    "            self.send_response(status)\n",
    "            self.end_headers()\n",
    "            self.wfile.write(base64ToBin(content))\n",
    "            safe_write(url + ' from cache')\n",
    "            return\n",
    "        r = http(BASE_URL + url, Header=h, Timeout=10000, Decode=False)\n",
    "        assert (r['status'] == 0)\n",
    "        safe_write(url + ' cached')\n",
    "        status = r['code']\n",
    "        content = r['text']\n",
    "        header = r['header']\n",
    "        for k in header:\n",
    "            header[k] = header[k].replace(DOMAIN, IP_PORT)\n",
    "        header['Content-Length'] = str(len(content))\n",
    "        cache[url] = [status, binToBase64(content), header]\n",
    "        self.send_response(status)\n",
    "        self.end_headers()\n",
    "        self.wfile.write(content)\n",
    "\n",
    "    def log_message(self, format: str, *args: Any) -> None:\n",
    "        pass"
   ]
  },
  {
   "cell_type": "code",
   "execution_count": null,
   "metadata": {},
   "outputs": [],
   "source": [
    "def save():\n",
    "    text = json.dumps(cache, ensure_ascii=False)\n",
    "    with open('cache.json', 'w') as f:\n",
    "        f.write(text)"
   ]
  },
  {
   "cell_type": "code",
   "execution_count": null,
   "metadata": {},
   "outputs": [],
   "source": [
    "print(len(cache))"
   ]
  },
  {
   "cell_type": "code",
   "execution_count": null,
   "metadata": {},
   "outputs": [],
   "source": [
    "server = ThreadingHTTPServer(('0.0.0.0', 9005), Resquest)\n",
    "start_new_thread(server.serve_forever, ())"
   ]
  },
  {
   "cell_type": "code",
   "execution_count": null,
   "metadata": {},
   "outputs": [],
   "source": [
    "while True:\n",
    "    sleep(10)\n",
    "    safe_write('saving ...')\n",
    "    save()\n",
    "    safe_write('saved')"
   ]
  }
 ],
 "metadata": {
  "kernelspec": {
   "display_name": "Python 3",
   "language": "python",
   "name": "python3"
  },
  "language_info": {
   "codemirror_mode": {
    "name": "ipython",
    "version": 3
   },
   "file_extension": ".py",
   "mimetype": "text/x-python",
   "name": "python",
   "nbconvert_exporter": "python",
   "pygments_lexer": "ipython3",
   "version": "3.9.12"
  }
 },
 "nbformat": 4,
 "nbformat_minor": 2
}
